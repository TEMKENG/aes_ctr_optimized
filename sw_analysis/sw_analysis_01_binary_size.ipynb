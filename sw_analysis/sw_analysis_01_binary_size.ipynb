{
 "cells": [
  {
   "cell_type": "markdown",
   "metadata": {},
   "source": [
    "# Software Analysis - 01 - Binary Size\n",
    "\n",
    "In cases of constrained storage space, e.g. on embedded devices, or limited transmission bandwidth, e.g. for mobile app download, it might be necessary to optimize the size of a binary executable.\n",
    "\n",
    "In the following, the analysis and optimization of the binary size of a compiled application is explained."
   ]
  },
  {
   "cell_type": "markdown",
   "metadata": {},
   "source": [
    "## Handling Command Line Calls in Python\n",
    "\n",
    "For shell command calls, the Python module ``subprocess`` is used (https://docs.python.org/3/library/subprocess.html)."
   ]
  },
  {
   "cell_type": "code",
   "execution_count": null,
   "metadata": {},
   "outputs": [],
   "source": [
    "import subprocess"
   ]
  },
  {
   "cell_type": "markdown",
   "metadata": {},
   "source": [
    "In the current working directory, you will find three \"Hello World!\" programs in three different programming languages. They will be the first targets of this binary size analysis.\n",
    "\n",
    "You can list the directories by calling the ``ls`` command with the ``-l`` option in ``subprocess.run()``."
   ]
  },
  {
   "cell_type": "code",
   "execution_count": null,
   "metadata": {},
   "outputs": [],
   "source": [
    "ls = subprocess.run(['ls', '-l'], capture_output=True, text=True)\n",
    "print(ls.stdout)"
   ]
  },
  {
   "cell_type": "markdown",
   "metadata": {},
   "source": [
    "## Get File Size of Binaries in Python\n",
    "\n",
    "One way to compare the size of binaries is to look at the file size of these executables.\n",
    "\n",
    "In Python, the function ``os.path.getsize()`` can be used to measure file size (https://docs.python.org/3/library/os.path.html)."
   ]
  },
  {
   "cell_type": "code",
   "execution_count": null,
   "metadata": {},
   "outputs": [],
   "source": [
    "import os"
   ]
  },
  {
   "cell_type": "markdown",
   "metadata": {},
   "source": [
    "Let's use it on some Linux binaries."
   ]
  },
  {
   "cell_type": "code",
   "execution_count": null,
   "metadata": {},
   "outputs": [],
   "source": [
    "file_path = '/usr/bin/ls'\n",
    "print('{:<24}'.format(file_path), '-->', '{:>9}'.format(os.path.getsize(file_path)), 'bytes')\n",
    "file_path = '/usr/bin/cat'\n",
    "print('{:<24}'.format(file_path), '-->', '{:>9}'.format(os.path.getsize(file_path)), 'bytes')"
   ]
  },
  {
   "cell_type": "markdown",
   "metadata": {},
   "source": [
    "## Get Sections' Sizes of Binaries\n",
    "\n",
    "A second way to measure binary size is the analysis of sections in a binary.\n",
    "\n",
    "While these also contain sections that are only allocated at runtime and do not hold data, like ``.bss``, this might be helpful when optimizing code and static data.\n",
    "\n",
    "On Linux, the ``size`` command with option ``-A`` can show the size of different sections in an executable.\n",
    "\n",
    "The following sections might be among those of interest:\n",
    "- ``.text`` contains all code\n",
    "- ``.rodata`` represents read-only data\n",
    "- ``.data`` holds writable data"
   ]
  },
  {
   "cell_type": "code",
   "execution_count": null,
   "metadata": {},
   "outputs": [],
   "source": [
    "size = subprocess.run(['size', '-A', '/usr/bin/ls'], cwd='./', capture_output=True, text=True)\n",
    "print(size.stdout)"
   ]
  },
  {
   "cell_type": "markdown",
   "metadata": {},
   "source": [
    "In order to filter the lengthy ``size -A`` output, one can use regular expressions with the Python module ``re`` (https://docs.python.org/3/library/re.html)."
   ]
  },
  {
   "cell_type": "code",
   "execution_count": null,
   "metadata": {},
   "outputs": [],
   "source": [
    "import re"
   ]
  },
  {
   "cell_type": "markdown",
   "metadata": {},
   "source": [
    "The following example shows filtering for sections ``.text``, ``.rodata``, ``.data`` and ``.bss``."
   ]
  },
  {
   "cell_type": "code",
   "execution_count": null,
   "metadata": {},
   "outputs": [],
   "source": [
    "size = subprocess.run(['size', '-A', '/usr/bin/ls'], cwd='./', capture_output=True, text=True)\n",
    "print('\\n'.join(re.findall('section.*|\\.text\\s+.*|\\.rodata\\s+.*|\\.data\\s+.*|\\.bss\\s+.*', size.stdout)))"
   ]
  },
  {
   "cell_type": "markdown",
   "metadata": {},
   "source": [
    "## Analysis of ''Hello World'' Binaries in C, C++, and Rust\n",
    "\n",
    "In the section, ''Hello World'' applications in the languages C, C++, and Rust will be compiled in different ways and analyzed for their binary sizes."
   ]
  },
  {
   "cell_type": "markdown",
   "metadata": {},
   "source": [
    "### Folder Structure and Files\n",
    "\n",
    "The following code lists the contents of each ``hello_world_*`` directory."
   ]
  },
  {
   "cell_type": "code",
   "execution_count": null,
   "metadata": {},
   "outputs": [],
   "source": [
    "print('### C ###')\n",
    "ls = subprocess.run(['ls', '-l'], cwd='./hello_world_c/', capture_output=True, text=True)\n",
    "print(ls.stdout)\n",
    "\n",
    "print('### C++ ###')\n",
    "ls = subprocess.run(['ls', '-l'], cwd='./hello_world_cpp/', capture_output=True, text=True)\n",
    "print(ls.stdout)\n",
    "\n",
    "print('### Rust ###')\n",
    "ls = subprocess.run(['ls', '-l'], cwd='./hello_world_rust/', capture_output=True, text=True)\n",
    "print(ls.stdout)"
   ]
  },
  {
   "cell_type": "markdown",
   "metadata": {},
   "source": [
    "The command ``cat`` can be used to print the contents of the files ``hello_world.c``, ``hello_world.cpp``, and ``src/main.rs``!"
   ]
  },
  {
   "cell_type": "code",
   "execution_count": null,
   "metadata": {},
   "outputs": [],
   "source": [
    "print('### C ###')\n",
    "cat = subprocess.run(['cat', 'hello_world.c'], cwd='./hello_world_c/', capture_output=True, text=True)\n",
    "print(cat.stdout)\n",
    "\n",
    "print('### C++ ###')\n",
    "cat = subprocess.run(['cat', 'hello_world.cpp'], cwd='./hello_world_cpp/', capture_output=True, text=True)\n",
    "print(cat.stdout)\n",
    "\n",
    "print('### Rust ###')\n",
    "cat = subprocess.run(['cat', 'src/main.rs'], cwd='./hello_world_rust/', capture_output=True, text=True)\n",
    "print(cat.stdout)"
   ]
  },
  {
   "cell_type": "markdown",
   "metadata": {},
   "source": [
    "### Compiler Options for C and C++\n",
    "\n",
    "The size of a binary can vary significantly, depending on the used compiler options.\n",
    "\n",
    "The following examples detail differnt compilation approaches for applications in C, C++ and Rust.\n",
    "\n",
    "The ``Makefile`` in the C and C++ cases contains different options to compile the ``hello_world`` binary.\n",
    "\n",
    "Have a look at the contents with the code of the following cell."
   ]
  },
  {
   "cell_type": "code",
   "execution_count": null,
   "metadata": {},
   "outputs": [],
   "source": [
    "print('### C - Makefile ###')\n",
    "cat = subprocess.run(['cat', 'Makefile'], cwd='./hello_world_c/', capture_output=True, text=True)\n",
    "print(cat.stdout)\n",
    "\n",
    "print('### C++ - Makefile ###')\n",
    "cat = subprocess.run(['cat', 'Makefile'], cwd='./hello_world_cpp/', capture_output=True, text=True)\n",
    "print(cat.stdout)"
   ]
  },
  {
   "cell_type": "markdown",
   "metadata": {},
   "source": [
    "In the default case, ``gcc`` compiles a dynamically linked binary from the provide C code.\n",
    "\n",
    "The option ``-Os`` makes ``gcc`` optimize in favor of binary size.\n",
    "\n",
    "The option ``-static`` enables the generation of statically linked binary.\n",
    "\n",
    "Of course, both options can be combined to obtain a statically linked binary optimized for size.\n",
    "\n",
    "Additionaly, the option ``-flto`` activates the Link-Time Optimizer (LTO).\n",
    "\n",
    "The C++ compiler ``g++`` takes almost the same options to achieve similar optimization."
   ]
  },
  {
   "cell_type": "markdown",
   "metadata": {},
   "source": [
    "Let's compile all versions for C and C++:"
   ]
  },
  {
   "cell_type": "code",
   "execution_count": null,
   "metadata": {},
   "outputs": [],
   "source": [
    "print('### Compile C Binaries ###')\n",
    "make = subprocess.run(['make', 'all'], cwd='./hello_world_c/')\n",
    "print('Return Code:', make.returncode)"
   ]
  },
  {
   "cell_type": "code",
   "execution_count": null,
   "metadata": {},
   "outputs": [],
   "source": [
    "print('### Compile C++ Binaries ###')\n",
    "make = subprocess.run(['make', 'all'], cwd='./hello_world_cpp/')\n",
    "print('Return Code:', make.returncode)"
   ]
  },
  {
   "cell_type": "markdown",
   "metadata": {},
   "source": [
    "### Compiler Options for Rust\n",
    "\n",
    "For Rust, optimizations can be handled by calling ``cargo`` with different options and setting parameters in the ``Cargo.toml`` file.\n",
    "\n",
    "By default, Rust compiles statically linked binaries.\n",
    "\n",
    "Also, if no options are given, the ``debug`` profile is used, i.e. debug information is still contained in the binary and optimization is not set to the highest level."
   ]
  },
  {
   "cell_type": "code",
   "execution_count": null,
   "metadata": {},
   "outputs": [],
   "source": [
    "print('### Compile Rust Binary (debug) ###')\n",
    "cargo = subprocess.run(['cargo', 'build'], cwd='./hello_world_rust/')\n",
    "print('Return Code:', cargo.returncode)"
   ]
  },
  {
   "cell_type": "markdown",
   "metadata": {},
   "source": [
    "Adding ``--release`` to the ``cargo`` call will set the highest optimization level.\n",
    "\n",
    "Further, the release profile in the ``Cargo.toml`` file can be extended, e.g. to enable the Link-Time Optimizer (LTO):<br>\n",
    "``[profile.release]``<br>\n",
    "``lto = true``<br>\n",
    "``panic = 'abort'``<br>"
   ]
  },
  {
   "cell_type": "code",
   "execution_count": null,
   "metadata": {},
   "outputs": [],
   "source": [
    "print('### Compile Rust Binary (release) ###')\n",
    "cargo = subprocess.run(['cargo', 'build', '--release'], cwd='./hello_world_rust/')\n",
    "print('Return Code:', cargo.returncode)"
   ]
  },
  {
   "cell_type": "markdown",
   "metadata": {},
   "source": [
    "However, if one uses the tool ``ldd`` to look at the compiled binaries, one can notice that - under Linux - Rust does not build fully statically linked binaries."
   ]
  },
  {
   "cell_type": "code",
   "execution_count": null,
   "metadata": {},
   "outputs": [],
   "source": [
    "ldd = subprocess.run(['ldd', 'hello_world'], cwd='./hello_world_rust/target/release/', capture_output=True, text=True)\n",
    "print(ldd.stdout)"
   ]
  },
  {
   "cell_type": "markdown",
   "metadata": {},
   "source": [
    "If one wants to compare Rust binaries with C and C++ binaries, one has to achieve completely statically linked binaries.\n",
    "\n",
    "Therefore, one has to install a specific additional target:\n",
    "\n",
    "``rustup target add x86_64-unknown-linux-musl``\n",
    "\n",
    "Afterwards, a fully statically linked binary can be compiled as follows."
   ]
  },
  {
   "cell_type": "code",
   "execution_count": null,
   "metadata": {},
   "outputs": [],
   "source": [
    "print('### Compile Rust Binary (release, fully statically linked) ###')\n",
    "cargo = subprocess.run(['cargo', 'build', '--target', 'x86_64-unknown-linux-musl', '--release'], cwd='./hello_world_rust/')\n",
    "print('Return Code:', cargo.returncode)"
   ]
  },
  {
   "cell_type": "code",
   "execution_count": null,
   "metadata": {},
   "outputs": [],
   "source": [
    "ldd = subprocess.run(['ldd', 'hello_world'], cwd='./hello_world_rust/target/x86_64-unknown-linux-musl/release/', capture_output=True, text=True)\n",
    "print(ldd.stdout)"
   ]
  },
  {
   "cell_type": "markdown",
   "metadata": {},
   "source": [
    "### Stripping Binaries\n",
    "\n",
    "The following list contains all compiled binaries."
   ]
  },
  {
   "cell_type": "code",
   "execution_count": null,
   "metadata": {},
   "outputs": [],
   "source": [
    "binaries = [\n",
    "    ['./hello_world_c/', 'hello_world_dyn'],\n",
    "    ['./hello_world_c/', 'hello_world_dyn_sizeopt'],\n",
    "    ['./hello_world_c/', 'hello_world_stat'],\n",
    "    ['./hello_world_c/', 'hello_world_stat_sizeopt'],\n",
    "    ['./hello_world_cpp/', 'hello_world_dyn'],\n",
    "    ['./hello_world_cpp/', 'hello_world_dyn_sizeopt'],\n",
    "    ['./hello_world_cpp/', 'hello_world_stat'],\n",
    "    ['./hello_world_cpp/', 'hello_world_stat_sizeopt'],\n",
    "    ['./hello_world_rust/target/debug/', 'hello_world'],\n",
    "    ['./hello_world_rust/target/release/', 'hello_world'],\n",
    "    ['./hello_world_rust/target/x86_64-unknown-linux-musl/release/', 'hello_world'],\n",
    "]"
   ]
  },
  {
   "cell_type": "markdown",
   "metadata": {},
   "source": [
    "Last, but not least, one can use the tool ``strip`` to clean the executables from all unnecessary information."
   ]
  },
  {
   "cell_type": "code",
   "execution_count": null,
   "metadata": {},
   "outputs": [],
   "source": [
    "print('### Stripping Hello World Binaries ###')\n",
    "for [directory, binfile] in binaries:\n",
    "  strip = subprocess.run(['strip', '--strip-all', '-o', binfile + '_stripped', binfile], cwd=directory)\n",
    "  print('Stripping', '{:<24}'.format(binfile), '--> Return Code:', strip.returncode)"
   ]
  },
  {
   "cell_type": "markdown",
   "metadata": {},
   "source": [
    "### File Size Analysis\n",
    "\n",
    "The following code prints the file size of the different ''Hello World'' binaries."
   ]
  },
  {
   "cell_type": "code",
   "execution_count": null,
   "metadata": {},
   "outputs": [],
   "source": [
    "print('### File Size Analysis of Hellow World Binaries ###')\n",
    "for [directory, binfile] in binaries:\n",
    "    file_path = directory + binfile\n",
    "    print('{:<84}'.format(file_path), '-->', '{:>9}'.format(os.path.getsize(file_path)), 'bytes')\n",
    "    file_path_stripped = file_path + '_stripped'\n",
    "    print('{:<84}'.format(file_path_stripped), '-->', '{:>9}'.format(os.path.getsize(file_path_stripped)), 'bytes')"
   ]
  },
  {
   "cell_type": "markdown",
   "metadata": {},
   "source": [
    "### Section Analysis\n",
    "\n",
    "This analysis shows interesting differences of statically and dynamically linked binaries in the sections ``.text``, ``.rodata``, ``.data`` and ``.bss``."
   ]
  },
  {
   "cell_type": "code",
   "execution_count": null,
   "metadata": {},
   "outputs": [],
   "source": [
    "print('### Dynamically Linked C Application ###')\n",
    "size = subprocess.run(['size', '-A', 'hello_world_dyn_sizeopt'], cwd='./hello_world_c/', capture_output=True, text=True)\n",
    "print('\\n'.join(re.findall('section.*|\\.text\\s+.*|\\.rodata\\s+.*|\\.data\\s+.*|\\.bss\\s+.*', size.stdout)))\n",
    "print()\n",
    "print('### Statically Linked C Application ###')\n",
    "size = subprocess.run(['size', '-A', 'hello_world_stat_sizeopt'], cwd='./hello_world_c/', capture_output=True, text=True)\n",
    "print('\\n'.join(re.findall('section.*|\\.text\\s+.*|\\.rodata\\s+.*|\\.data\\s+.*|\\.bss\\s+.*', size.stdout)))"
   ]
  },
  {
   "cell_type": "markdown",
   "metadata": {},
   "source": [
    "Further, one can see the effects of stripping a Rust application.\n",
    "\n",
    "It is clearly visible that all sections prefixed with ``.debug_`` were removed."
   ]
  },
  {
   "cell_type": "code",
   "execution_count": null,
   "metadata": {},
   "outputs": [],
   "source": [
    "print('### Statically Linked Rust Application (Before Stripping) ###')\n",
    "size = subprocess.run(['size', '-A', 'hello_world'], cwd='./hello_world_rust/target/x86_64-unknown-linux-musl/release/', capture_output=True, text=True)\n",
    "print(size.stdout)\n",
    "\n",
    "print('### Statically Linked Rust Application (After Stripping) ###')\n",
    "size = subprocess.run(['size', '-A', 'hello_world_stripped'], cwd='./hello_world_rust/target/x86_64-unknown-linux-musl/release/', capture_output=True, text=True)\n",
    "print(size.stdout)"
   ]
  },
  {
   "cell_type": "markdown",
   "metadata": {},
   "source": [
    "## Analysis of Prime Checking Applications in Rust\n",
    "\n",
    "Checking numbers for primality is a common algorithm implementation case that leaves a lot of space for optimizations.\n",
    "\n",
    "This exercise uses different versions of a command line tool for prime checking."
   ]
  },
  {
   "cell_type": "code",
   "execution_count": null,
   "metadata": {},
   "outputs": [],
   "source": [
    "prime_check_tools = [\n",
    "    'prime_check_lookup_table',\n",
    "    'prime_check_dyngen_table',\n",
    "    'prime_check_no_table',\n",
    "]"
   ]
  },
  {
   "cell_type": "markdown",
   "metadata": {},
   "source": [
    "Let's compile all versions."
   ]
  },
  {
   "cell_type": "code",
   "execution_count": null,
   "metadata": {},
   "outputs": [],
   "source": [
    "print('### Compiling Prime Check Tools ###')\n",
    "for tool in prime_check_tools:\n",
    "  cargo = subprocess.run(['cargo', 'build', '--release'], cwd='./' + tool + '/')\n",
    "  print('Compiling', '{:<24}'.format(tool), '--> Return Code:', cargo.returncode)"
   ]
  },
  {
   "cell_type": "markdown",
   "metadata": {},
   "source": [
    "Let's also call ``strip`` on all binaries."
   ]
  },
  {
   "cell_type": "code",
   "execution_count": null,
   "metadata": {},
   "outputs": [],
   "source": [
    "print('### Stripping Binaries of Prime Check Tools ###')\n",
    "for tool in prime_check_tools:\n",
    "  strip = subprocess.run(['strip', '--strip-all', '-o', tool + '_stripped', tool], cwd='./' + tool + '/target/release/')\n",
    "  print('Stripping', '{:<24}'.format(tool), '--> Return Code:', strip.returncode)"
   ]
  },
  {
   "cell_type": "markdown",
   "metadata": {},
   "source": [
    "### File Size Analysis\n",
    "\n",
    "Let's look at the file size of these binaries."
   ]
  },
  {
   "cell_type": "code",
   "execution_count": null,
   "metadata": {},
   "outputs": [],
   "source": [
    "print('### File Size Analysis of Prime Check Tools ###')\n",
    "for tool in prime_check_tools:\n",
    "    file_path = './' + tool + '/target/release/' + tool\n",
    "    print('{:<84}'.format(file_path), '-->', '{:>9}'.format(os.path.getsize(file_path)), 'bytes')\n",
    "    file_path = file_path + '_stripped'\n",
    "    print('{:<84}'.format(file_path), '-->', '{:>9}'.format(os.path.getsize(file_path)), 'bytes')"
   ]
  },
  {
   "cell_type": "markdown",
   "metadata": {},
   "source": [
    "### Section Analysis\n",
    "\n",
    "Let's look a little bit closer, which section of ``prime_check_lookup_table`` shows the largest difference compared to the other two binaries."
   ]
  },
  {
   "cell_type": "code",
   "execution_count": null,
   "metadata": {
    "scrolled": true
   },
   "outputs": [],
   "source": [
    "print('### Section Analysis of Prime Check Tools ###')\n",
    "for tool in prime_check_tools:\n",
    "    print('--- ' + tool + ' ---')\n",
    "    size = subprocess.run(['size', '-A', tool], cwd='./' + tool + '/target/release/', capture_output=True, text=True)\n",
    "    print('\\n'.join(re.findall('section.*|\\.text\\s+.*|\\.rodata\\s+.*|\\.data\\s+.*|\\.bss\\s+.*', size.stdout)))"
   ]
  },
  {
   "cell_type": "code",
   "execution_count": null,
   "metadata": {},
   "outputs": [],
   "source": []
  }
 ],
 "metadata": {
  "kernelspec": {
   "display_name": "Python 3",
   "language": "python",
   "name": "python3"
  },
  "language_info": {
   "codemirror_mode": {
    "name": "ipython",
    "version": 3
   },
   "file_extension": ".py",
   "mimetype": "text/x-python",
   "name": "python",
   "nbconvert_exporter": "python",
   "pygments_lexer": "ipython3",
   "version": "3.7.5"
  }
 },
 "nbformat": 4,
 "nbformat_minor": 2
}
